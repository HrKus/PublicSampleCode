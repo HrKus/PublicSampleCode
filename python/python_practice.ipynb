{
 "cells": [
  {
   "cell_type": "markdown",
   "metadata": {
    "colab_type": "text",
    "id": "rMi9mOCYBi_K"
   },
   "source": [
    "# **変数宣言**\n",
    "pythonでは特に型を宣言しなくても自動で判断してくれる。"
   ]
  },
  {
   "cell_type": "code",
   "execution_count": 4,
   "metadata": {
    "colab": {},
    "colab_type": "code",
    "id": "1kW_rDsXBi_O",
    "outputId": "7d590963-c3b9-40a6-dc61-00d864b31833"
   },
   "outputs": [
    {
     "name": "stdout",
     "output_type": "stream",
     "text": [
      "1 <class 'int'>\n",
      "1 <class 'str'>\n"
     ]
    }
   ],
   "source": [
    "num = 1\n",
    "name = '1'\n",
    "\n",
    "print(num, type(num))\n",
    "print(num, type(name))"
   ]
  },
  {
   "cell_type": "markdown",
   "metadata": {
    "colab_type": "text",
    "id": "qSPPFhl6Bi_T"
   },
   "source": [
    "ここでtype()はデータ型を返してくれる関数。\n",
    "基本的に型は指定しなくて大丈夫だが変更したい時は以下のようにする。"
   ]
  },
  {
   "cell_type": "code",
   "execution_count": null,
   "metadata": {
    "colab": {},
    "colab_type": "code",
    "id": "WsjBd8fFBi_U",
    "outputId": "dd06a677-137c-4c0f-9ed6-a3ebe4f0ba58"
   },
   "outputs": [
    {
     "name": "stdout",
     "output_type": "stream",
     "text": [
      "1 <class 'int'>\n",
      "1 <class 'int'>\n"
     ]
    }
   ],
   "source": [
    "name = int(name) #型変換\n",
    "\n",
    "print(num, type(num))\n",
    "print(num, type(name))"
   ]
  },
  {
   "cell_type": "markdown",
   "metadata": {
    "colab_type": "text",
    "id": "pZh0kj5NBi_X"
   },
   "source": [
    "ちなみに変数名にifなどの予約語や数字から始まるものを使うとsyntax errorになるので注意。"
   ]
  },
  {
   "cell_type": "markdown",
   "metadata": {
    "colab_type": "text",
    "id": "DjPgANZyBi_Z"
   },
   "source": [
    "### -print関数について\n",
    "\n",
    "print関数ではカンマで区切って変数を入れていくとスペース区切り、改行終わりで出力される。\n",
    "これはsep = ''とend = ''で変更できる。"
   ]
  },
  {
   "cell_type": "code",
   "execution_count": null,
   "metadata": {
    "colab": {},
    "colab_type": "code",
    "id": "xLlrH9LvBi_a",
    "outputId": "d4bee9a8-9151-43f4-a4f7-c9888f1985fd"
   },
   "outputs": [
    {
     "name": "stdout",
     "output_type": "stream",
     "text": [
      "Hi Make\n",
      "Hi,Make!\n"
     ]
    }
   ],
   "source": [
    "print('Hi', 'Make') #デフォルト\n",
    "print('Hi', 'Make', sep = ',', end = '!\\n') #カンマ区切り、!改行終わり   "
   ]
  },
  {
   "cell_type": "markdown",
   "metadata": {
    "colab_type": "text",
    "id": "zfecotryBi_d"
   },
   "source": [
    "# **単純計算**"
   ]
  },
  {
   "cell_type": "code",
   "execution_count": null,
   "metadata": {
    "colab": {},
    "colab_type": "code",
    "id": "JagJj-AwBi_e",
    "outputId": "271db5ce-718c-4b0c-8d54-9c4b5f12845b"
   },
   "outputs": [
    {
     "name": "stdout",
     "output_type": "stream",
     "text": [
      "17 7 60 2.4\n",
      "248832 2 2\n"
     ]
    }
   ],
   "source": [
    "print(12 + 5, 12 - 5, 12 * 5, 12 / 5) #四則演算\n",
    "print(12 ** 5, 12 // 5, 12 % 5) #べき乗、商、余り"
   ]
  },
  {
   "cell_type": "markdown",
   "metadata": {
    "colab_type": "text",
    "id": "64qe3DULBi_h"
   },
   "source": [
    "また有効数字で切りたい時にround()関数が使える。"
   ]
  },
  {
   "cell_type": "code",
   "execution_count": 15,
   "metadata": {
    "colab": {},
    "colab_type": "code",
    "id": "wppxOG94Bi_i",
    "outputId": "f49e0f12-b17d-4abf-f02b-b7e25f705a7b"
   },
   "outputs": [
    {
     "data": {
      "text/plain": [
       "3.1"
      ]
     },
     "execution_count": 15,
     "metadata": {},
     "output_type": "execute_result"
    }
   ],
   "source": [
    "pie = 3.1415151515\n",
    "round(pie, 1) #有効数字２桁"
   ]
  },
  {
   "cell_type": "markdown",
   "metadata": {
    "colab_type": "text",
    "id": "IlD7qcpiBi_l"
   },
   "source": [
    "mathモジュールをインポートしてmathのメソッド(math.hoge)を使う方法もある、詳しくは後ほど。"
   ]
  },
  {
   "cell_type": "code",
   "execution_count": null,
   "metadata": {
    "colab": {},
    "colab_type": "code",
    "id": "0rv3hV19Bi_m",
    "outputId": "c109d4c2-090a-4080-e27c-c1454e7d68c3"
   },
   "outputs": [
    {
     "name": "stdout",
     "output_type": "stream",
     "text": [
      "12.0 8.0\n"
     ]
    }
   ],
   "source": [
    "import math\n",
    "result1 = math.sqrt(144) #平方根を求める\n",
    "result2 = math.log2(256) #logを求める\n",
    "\n",
    "print(result1, result2)"
   ]
  },
  {
   "cell_type": "markdown",
   "metadata": {
    "colab_type": "text",
    "id": "lusuwdztBi_o"
   },
   "source": [
    "# **文字列操作**\n",
    "文字列は'で囲っても\"で囲ってもOK。  \n",
    "ただし、'や\"を文中で使うときは、文中に無い方で囲うか、\\を使う。"
   ]
  },
  {
   "cell_type": "code",
   "execution_count": 25,
   "metadata": {
    "colab": {},
    "colab_type": "code",
    "id": "BK_Y798rBi_p",
    "outputId": "f83dea35-d745-46e6-829f-388f7fc692ab"
   },
   "outputs": [
    {
     "name": "stdout",
     "output_type": "stream",
     "text": [
      "Hello!\n",
      "Hello!\n",
      "I do'nt know\n",
      "I do'nt know\n",
      "He said \"I don't know\"\n"
     ]
    }
   ],
   "source": [
    "#文字列は''で囲っても\"\"で囲ってもOK。\n",
    "print('Hello!') \n",
    "print(\"Hello!\")\n",
    "\n",
    "#'や\"を文中で使うときは、文中に無い方で囲うか、\\を使う。\n",
    "print(\"I do'nt know\") \n",
    "print('I do\\'nt know')\n",
    "print('He said \"I don\\'t know\"')"
   ]
  },
  {
   "cell_type": "markdown",
   "metadata": {
    "colab_type": "text",
    "id": "lIRT7s5GBi_s"
   },
   "source": [
    "\\n:改行　\\t:タブなどの正規表現も使える。  \n",
    "ファイルのパスなどで文中に\\nや\\tが入るときには文頭にrをつけるとそのまま出力できる。"
   ]
  },
  {
   "cell_type": "code",
   "execution_count": null,
   "metadata": {
    "colab": {},
    "colab_type": "code",
    "id": "-34PqqS5Bi_t",
    "outputId": "9f8a9b56-2ccc-4838-bccf-2be7ff0966d0"
   },
   "outputs": [
    {
     "name": "stdout",
     "output_type": "stream",
     "text": [
      "Hello!\n",
      "How are you?\n",
      "C:\\name\\total\n"
     ]
    }
   ],
   "source": [
    "print('Hello!\\nHow are you?')\n",
    "print(r'C:\\name\\total')"
   ]
  },
  {
   "cell_type": "markdown",
   "metadata": {
    "colab_type": "text",
    "id": "TG4WkLI_Bi_v"
   },
   "source": [
    "''' '''で囲うと\\nを打たなくてもそのまま改行できる。"
   ]
  },
  {
   "cell_type": "code",
   "execution_count": null,
   "metadata": {
    "colab": {},
    "colab_type": "code",
    "id": "MQP681i6Bi_x",
    "outputId": "00a7278a-05ea-470e-fb28-708fc2cb4de1"
   },
   "outputs": [
    {
     "name": "stdout",
     "output_type": "stream",
     "text": [
      "##############\n",
      "1\n",
      "2\n",
      "3\n",
      "##############\n"
     ]
    }
   ],
   "source": [
    "# \\は改行無視の記号、これを入れると次の行と同じ行として扱われる。\n",
    "print(\"##############\")\n",
    "print('''\\\n",
    "1\n",
    "2\n",
    "3\\\n",
    "''')\n",
    "print(\"##############\")"
   ]
  },
  {
   "cell_type": "markdown",
   "metadata": {
    "colab_type": "text",
    "id": "DmNIFhoPBi_z"
   },
   "source": [
    "演算子を使って文章を記述することもできる。"
   ]
  },
  {
   "cell_type": "code",
   "execution_count": null,
   "metadata": {
    "colab": {},
    "colab_type": "code",
    "id": "psTbQF7WBi_0",
    "outputId": "2c0d8a1b-b2da-4a7a-b3b2-5b6b86df9d00"
   },
   "outputs": [
    {
     "name": "stdout",
     "output_type": "stream",
     "text": [
      "HiHiHi\n"
     ]
    }
   ],
   "source": [
    "print('Hi' * 3) #繰り返し三回"
   ]
  },
  {
   "cell_type": "code",
   "execution_count": null,
   "metadata": {
    "colab": {},
    "colab_type": "code",
    "id": "dn88xUNmBi_2",
    "outputId": "65c91fe5-4a02-4bea-cd1e-8216ab0813bf"
   },
   "outputs": [
    {
     "name": "stdout",
     "output_type": "stream",
     "text": [
      "HiMike\n",
      "HiMike\n",
      "HiMike\n"
     ]
    }
   ],
   "source": [
    "print('Hi' + 'Mike') #連結\n",
    "print('Hi''Mike') #変数を介さなければこれでもいける。長文を扱う時便利。\n",
    "a = 'Hi'\n",
    "b= 'Mike'\n",
    "print(a + b) #変数を介する時は演算子を使う必要がある。"
   ]
  },
  {
   "cell_type": "markdown",
   "metadata": {
    "colab_type": "text",
    "id": "GDiuHAbVBi_5"
   },
   "source": [
    "### -インデックスとスライス\n",
    "文字列を配列として扱い、特定の文字の切り出しができる。  "
   ]
  },
  {
   "cell_type": "code",
   "execution_count": null,
   "metadata": {
    "colab": {},
    "colab_type": "code",
    "id": "_LiUDBk3Bi_5",
    "outputId": "1902f2fc-2303-4023-90d3-6b2017e48278"
   },
   "outputs": [
    {
     "name": "stdout",
     "output_type": "stream",
     "text": [
      "p\n",
      "n\n",
      "pyt\n",
      "python\n",
      "pytho\n",
      "pto\n",
      "nohtyp\n"
     ]
    }
   ],
   "source": [
    "word = 'python'\n",
    "print(word[0]) #[i]インデックス\n",
    "print(word[-1]) #後ろから\n",
    "print(word[0:3]) #スライス　この場合0, 1, 2の３つの要素を指定していることに注意！3は含まれない！\n",
    "print(word[0:]) #省略最後まで\n",
    "print(word[:5]) #省略最初から\n",
    "print(word[::2]) #一つ飛ばし\n",
    "print(word[::-1]) #逆から"
   ]
  },
  {
   "cell_type": "markdown",
   "metadata": {
    "colab_type": "text",
    "id": "7XtonruaBi_9"
   },
   "source": [
    "文字列のインデックスにダイレクトに別の文字を代入することはできない。  \n",
    "文字列を編集したい時は以下のようにする。"
   ]
  },
  {
   "cell_type": "code",
   "execution_count": null,
   "metadata": {
    "colab": {},
    "colab_type": "code",
    "id": "BzL8u1QlBi_-",
    "outputId": "75ba4bdd-389f-4f0d-a7f3-4959ae58f861"
   },
   "outputs": [
    {
     "name": "stdout",
     "output_type": "stream",
     "text": [
      "Jython\n"
     ]
    }
   ],
   "source": [
    "# word[0] = 'J' これはできない\n",
    "word = 'J' + word[1:6] #このようにする\n",
    "print(word)"
   ]
  },
  {
   "cell_type": "markdown",
   "metadata": {
    "colab_type": "text",
    "id": "4zAtXr4FBjAB"
   },
   "source": [
    "len関数:文字列やlistの長さを返す関数。"
   ]
  },
  {
   "cell_type": "code",
   "execution_count": null,
   "metadata": {
    "colab": {},
    "colab_type": "code",
    "id": "S_DcVnYjBjAC",
    "outputId": "b547af6c-2231-4421-c21d-2bb8654e5d35"
   },
   "outputs": [
    {
     "name": "stdout",
     "output_type": "stream",
     "text": [
      "6\n"
     ]
    }
   ],
   "source": [
    "print(len(word))"
   ]
  },
  {
   "cell_type": "markdown",
   "metadata": {
    "colab_type": "text",
    "id": "9kipC1YoBjAE"
   },
   "source": [
    "### -文字列のメソッド\n",
    "HOGE.hoge()で表される関数をメソッドと呼ぶ。  \n",
    "操作したい文字列の末尾に.hoge()を加えて使うことで様々な機能が実現できる。\n",
    "文字列のメソッドはhelp(str)で一覧を見ることができる。"
   ]
  },
  {
   "cell_type": "code",
   "execution_count": 24,
   "metadata": {
    "colab": {
     "base_uri": "https://localhost:8080/",
     "height": 187
    },
    "colab_type": "code",
    "executionInfo": {
     "elapsed": 1077,
     "status": "ok",
     "timestamp": 1573183523144,
     "user": {
      "displayName": "南木悠",
      "photoUrl": "",
      "userId": "16082735348902225582"
     },
     "user_tz": -540
    },
    "id": "6Kf0KZamBjAF",
    "outputId": "fa09e8b6-5020-4ed3-8bc0-407480dea48a"
   },
   "outputs": [
    {
     "name": "stdout",
     "output_type": "stream",
     "text": [
      "True\n",
      "True\n",
      "1\n",
      "71\n",
      "5\n",
      "Anaconda is the most popular python data science platform with 6 million users.\n",
      "Anaconda Is The Most Popular Python Data Science Platform With 6 Million Users.\n",
      "ANACONDA IS THE MOST POPULAR PYTHON DATA SCIENCE PLATFORM WITH 6 MILLION USERS.\n",
      "anaconda is the most popular python data science platform with 6 million users.\n",
      "xxxx is the most popular Python data science platform with 6 million users.\n",
      "xxxxAxxxxxxxx xxxxxxxx xxxxxxxx xxxxxxxx xxxxxxxx xxxxPxxxxxxxx xxxxxxxx xxxxxxxx xxxxxxxx xxxxxxxx xxxx6xxxx xxxxxxxx xxxxxxxx.xxxx\n"
     ]
    }
   ],
   "source": [
    "s = 'Anaconda is the most popular Python data science platform with 6 million users.'\n",
    "\n",
    "print(s.startswith('A')) #Aで始まるかどうかを返す。\n",
    "print('Anaconda is the most popular.'.startswith('A')) #文字列のままでもOK\n",
    "\n",
    "print(s.find('n')) #最初から数えて何番めにあるか\n",
    "print(s.rfind('n')) #最後から数えて何番めにあるか\n",
    "\n",
    "print(s.count('n')) #いくつあるか\n",
    "\n",
    "print(s.capitalize()) #最初の文字だけを大文字に\n",
    "print(s.title()) #単語の頭文字を全て大文字に\n",
    "print(s.upper()) #全て大文字に\n",
    "print(s.lower()) #全て小文字に\n",
    "\n",
    "print(s.replace('Anaconda', 'xxxx')) #置換\n",
    "\n",
    "#help(str)"
   ]
  },
  {
   "cell_type": "markdown",
   "metadata": {
    "colab_type": "text",
    "id": "bYan3kPzBjAI"
   },
   "source": [
    "### -文字列の代入\n",
    "文字列のメソッドを使って文字列内にある{hoge}に任意の文字列を代入できる。"
   ]
  },
  {
   "cell_type": "code",
   "execution_count": null,
   "metadata": {
    "colab": {},
    "colab_type": "code",
    "id": "6TakvqWyBjAJ",
    "outputId": "efa232d3-75a6-4d43-f90f-d24b6dec69fe"
   },
   "outputs": [
    {
     "name": "stdout",
     "output_type": "stream",
     "text": [
      "Anaconda is the most popular Python data science platform with 6 million users.\n",
      "AAAA is the most popular BBBB data science platform with 6 million users.\n",
      "Anaconda is the most popular Python data science platform with 6 million users.\n",
      "AAAA is the most popular BBBB data science platform with 6 million users.\n"
     ]
    }
   ],
   "source": [
    "ss = '{0} is the most popular {1} data science platform with 6 million users.'\n",
    "\n",
    "print(ss.format('Anaconda', 'Python'))\n",
    "print(ss.format('AAAA', 'BBBB'))\n",
    "\n",
    "#変数は数字ではなく、自分で設定することもできる。\n",
    "ss = '{name1} is the most popular {name2} data science platform with 6 million users.'\n",
    "\n",
    "print(ss.format(name1 = 'Anaconda', name2 = 'Python'))\n",
    "print(ss.format(name1 = 'AAAA', name2 = 'BBBB'))"
   ]
  },
  {
   "cell_type": "markdown",
   "metadata": {},
   "source": [
    "### -正規表現を使った置換\n",
    "reモジュールを使うと正規表現検索・置換が出来る。"
   ]
  },
  {
   "cell_type": "code",
   "execution_count": 50,
   "metadata": {},
   "outputs": [
    {
     "name": "stdout",
     "output_type": "stream",
     "text": [
      "Mathmatics\n",
      "Biology\n",
      "English\n",
      "Mxxxxxxxxx\n",
      "Bxxxxxx\n",
      "Exxxxxx\n",
      "xathmatics\n",
      "Biology\n",
      "English\n",
      "xathmatics\n",
      "xiology\n",
      "xnglish\n",
      "Mmatics\n",
      "Bogy\n",
      "Eish\n",
      "Mmatics\n",
      "Bogy\n",
      "Eish\n"
     ]
    }
   ],
   "source": [
    "#正規表現を使った置換\n",
    "import re\n",
    "\n",
    "sss = '''\\\n",
    "Mathmatics\n",
    "Biology\n",
    "English\\\n",
    "'''\n",
    "\n",
    "\n",
    "#基本的な使い方\n",
    "print(sss)\n",
    "print(re.sub('[a-z]', 'x', sss)) #a-zをxに置換\n",
    "print(re.sub('^[A-Z]', 'x', sss)) #行頭A-Zをxに置換\n",
    "print(re.sub('^[A-Z]', 'x', sss, flags=re.MULTILINE)) #各行頭A-Zをxに置換\n",
    "print(re.sub(r'(^[A-Z]).{3}', r'\\1', sss, flags=re.MULTILINE)) #各行頭４文字を各行頭文字で置換(後方参照)\n",
    "\n",
    "#正規表現のコンパイル(高速化/可読性向上)\n",
    "replace = re.compile(r'(^[A-Z]).{3}', flags=re.MULTILINE) #正規表現のコンパイル\n",
    "print(replace.sub(r'\\1', sss))"
   ]
  },
  {
   "cell_type": "markdown",
   "metadata": {
    "colab_type": "text",
    "id": "IG9SnIdUBjAP"
   },
   "source": [
    "# **list型の操作**\n",
    "### -インデックスとスライス\n",
    "文字列と同様に、特定の文字の切り出しができる。"
   ]
  },
  {
   "cell_type": "code",
   "execution_count": null,
   "metadata": {
    "colab": {},
    "colab_type": "code",
    "id": "wo6bVgzVBjAQ",
    "outputId": "cacdd8a4-d2a8-4a76-bec0-88a0882fc96c"
   },
   "outputs": [
    {
     "name": "stdout",
     "output_type": "stream",
     "text": [
      "<class 'list'>\n",
      "1\n",
      "[3]\n",
      "[3, 4, 5, 6, 7, 8, 9, 10]\n",
      "10\n"
     ]
    }
   ],
   "source": [
    "l = [1,2,3,4,5,6,7,8,9,10] #list型の定義[]ブラケットで囲う\n",
    "print(type(l))\n",
    "print(l[0])\n",
    "print(l[2:3])\n",
    "print(l[2:])\n",
    "print(l[-1])\n",
    "print(l[::2])\n",
    "print(l[::-1])"
   ]
  },
  {
   "cell_type": "markdown",
   "metadata": {
    "colab_type": "text",
    "id": "Dw7umpVJBjAV"
   },
   "source": [
    "また、文字列をlist型に変換するにはlist('hoge')が使える。"
   ]
  },
  {
   "cell_type": "markdown",
   "metadata": {
    "colab_type": "text",
    "id": "cF0n0fRfBjAW"
   },
   "source": [
    "### -ネスト\n",
    "リストの中にリストを入れる。  \n",
    "これをネストすると言う。"
   ]
  },
  {
   "cell_type": "code",
   "execution_count": 53,
   "metadata": {
    "colab": {},
    "colab_type": "code",
    "id": "z-ITonWWBjAW",
    "outputId": "e2d78a72-0d4b-41fc-d984-bf7eb90ebc31"
   },
   "outputs": [
    {
     "name": "stdout",
     "output_type": "stream",
     "text": [
      "[[1, 2, 3, 4, 5, 6, 7, 8, 9, 10], ['a', 'b', 'c', 'd']]\n",
      "[1, 2, 3, 4, 5, 6, 7, 8, 9, 10]\n",
      "['a', 'b', 'c', 'd']\n",
      "5\n",
      "d\n"
     ]
    }
   ],
   "source": [
    "l = [1,2,3,4,5,6,7,8,9,10]\n",
    "r = ['a', 'b', 'c', 'd']\n",
    "lr = [l, r] #ネスト\n",
    "\n",
    "#ネストされたlistへのアクセス\n",
    "print(lr[:]) #全て\n",
    "print(lr[0]) #最初の要素\n",
    "print(lr[1])\n",
    "print(lr[0][4]) #最初の要素の第４成分\n",
    "print(lr[1][3])"
   ]
  },
  {
   "cell_type": "markdown",
   "metadata": {
    "colab_type": "text",
    "id": "zX0biHBpBjAY"
   },
   "source": [
    "### -代入・挿入・削除・結合\n",
    "文字列と異なりインデックスにダイレクトに別の文字を代入することができる。  \n",
    "代入・挿入・削除・結合などlistを編集したい時は以下のような方法がある。"
   ]
  },
  {
   "cell_type": "markdown",
   "metadata": {
    "colab_type": "text",
    "id": "6FYBphgJBjAZ"
   },
   "source": [
    "#### 代入"
   ]
  },
  {
   "cell_type": "code",
   "execution_count": null,
   "metadata": {
    "colab": {},
    "colab_type": "code",
    "id": "CtrlEYPRBjAa",
    "outputId": "c653ffa2-a830-47e2-d2c1-a61423d70781"
   },
   "outputs": [
    {
     "name": "stdout",
     "output_type": "stream",
     "text": [
      "['y', 'u', ' ', 'n', 'a', 'm', 'm', 'o', 'k', 'u']\n",
      "['Y', 'u', ' ', 'n', 'a', 'm', 'm', 'o', 'k', 'u']\n",
      "['Y', 'u', ' ', 'N', 'A', 'M', 'M', 'O', 'K', 'U']\n"
     ]
    }
   ],
   "source": [
    "s = list('yu nammoku') #文字列をlist化して代入\n",
    "print(s)\n",
    "\n",
    "s[0] = 'Y' #インデックス[0]にYを代入\n",
    "print(s)\n",
    "\n",
    "s[3:10] = list('NAMMOKU') #[10]は含まれないことに注意。[10]の直前まで。\n",
    "print(s)\n"
   ]
  },
  {
   "cell_type": "markdown",
   "metadata": {
    "colab_type": "text",
    "id": "6b-bKuh_BjAd"
   },
   "source": [
    "#### 削除"
   ]
  },
  {
   "cell_type": "code",
   "execution_count": null,
   "metadata": {
    "colab": {},
    "colab_type": "code",
    "id": "PlvTkC9HBjAe",
    "outputId": "dc263616-8602-4c89-f1b8-2c96548021c8"
   },
   "outputs": [
    {
     "name": "stdout",
     "output_type": "stream",
     "text": [
      "['n', 'a', 'm', 'm', 'o', 'k', 'u']\n",
      "['n', 'a', 'm', 'o', 'k', 'u']\n",
      "n\n",
      "['a', 'm', 'o', 'k', 'u']\n",
      "['m', 'o', 'k', 'u']\n"
     ]
    }
   ],
   "source": [
    "s = list('yu nammoku') #文字列をlist化して代入\n",
    "\n",
    "s[0:3] = [] #NULLを代入\n",
    "print(s)\n",
    "\n",
    "s.remove('m') #一番最初にあるmを探して削除。無いとエラー。sの中身自体を変える。\n",
    "print(s)\n",
    "\n",
    "print(s.pop(0)) #指定したインデックスの要素を出力し、listから削除する。sの中身自体も変える。\n",
    "print(s) \n",
    "\n",
    "del s[0] #delを使った消去。変数全体に使うと変数自体が定義されていない状態になる。\n",
    "print(s)"
   ]
  },
  {
   "cell_type": "markdown",
   "metadata": {
    "colab_type": "text",
    "id": "_Ae2qjPQBjAg"
   },
   "source": [
    "#### 挿入"
   ]
  },
  {
   "cell_type": "code",
   "execution_count": null,
   "metadata": {
    "colab": {},
    "colab_type": "code",
    "id": "WUBVEQWeBjAg",
    "outputId": "4dfb5e20-75e2-4246-be08-8bc7034bff2b"
   },
   "outputs": [
    {
     "name": "stdout",
     "output_type": "stream",
     "text": [
      "['N', 'm', 'o', 'k', 'u']\n"
     ]
    }
   ],
   "source": [
    "s.insert(0, 'N') #指定したインデックスに要素を挿入する。出力がなく(None)、sの中身自体を変化させる関数。\n",
    "print(s) "
   ]
  },
  {
   "cell_type": "markdown",
   "metadata": {
    "colab_type": "text",
    "id": "S2tl_ISgBjAi"
   },
   "source": [
    "#### 結合"
   ]
  },
  {
   "cell_type": "code",
   "execution_count": null,
   "metadata": {
    "colab": {},
    "colab_type": "code",
    "id": "o7Bya5aJBjAj",
    "outputId": "12eaff41-f7a9-44d1-caeb-5ee1591c3e32"
   },
   "outputs": [
    {
     "name": "stdout",
     "output_type": "stream",
     "text": [
      "[1, 2, 3, 4, 5, 6, 7, 8, 9, 10]\n",
      "[1, 2, 3, 4, 5, 6, 7, 8, 9, 10]\n",
      "[1, 2, 3, 4, 5, 6, 7, 8, 9, 10, 1, 2, 3, 4, 5, 6, 7, 8, 9, 10]\n",
      "   A   B\n",
      "0  1   6\n",
      "1  2   7\n",
      "2  3   8\n",
      "3  4   9\n",
      "4  5  10\n"
     ]
    }
   ],
   "source": [
    "a = [1,2,3,4,5]\n",
    "b = [6,7,8,9,10]\n",
    "\n",
    "\n",
    "\n",
    "x = a + b #結合\n",
    "print(x)\n",
    "\n",
    "a += b #+=でaに結合したものを代入\n",
    "print(a)\n",
    "\n",
    "x.extend(a) #メソッド.extendを使った結合\n",
    "print(x)\n",
    "\n",
    "print(test)"
   ]
  },
  {
   "cell_type": "markdown",
   "metadata": {
    "colab_type": "text",
    "id": "uI9q1gJMBjAm"
   },
   "source": [
    "### -list型のメソッド\n",
    "list型で使えるメソッドについていくつか紹介する。  \n",
    "listのメソッドはhelp(list)で一覧を見ることができる。"
   ]
  },
  {
   "cell_type": "code",
   "execution_count": null,
   "metadata": {
    "colab": {},
    "colab_type": "code",
    "id": "Vzbfq09zBjAn",
    "outputId": "37956b4f-4d24-4452-d528-7608f7b228b8"
   },
   "outputs": [
    {
     "name": "stdout",
     "output_type": "stream",
     "text": [
      "1\n",
      "11\n",
      "あります。\n",
      "[1, 2, 2, 3, 3, 4, 4, 4, 6, 7, 7, 8, 9, 11]\n",
      "[11, 9, 8, 7, 7, 6, 4, 4, 4, 3, 3, 2, 2, 1]\n",
      "[1, 2, 2, 3, 3, 4, 4, 4, 6, 7, 7, 8, 9, 11]\n",
      "['My', 'name', 'is', 'Yu']\n",
      "My name is Yu\n"
     ]
    }
   ],
   "source": [
    "r = [1,3,2,4,6,7,4,7,8,9,11,2,3,4]\n",
    "\n",
    "#インデックス検索\n",
    "print(r.index(3)) #3のある最初のインデックスを検索して返す。\n",
    "print(r.index(2,3)) #２番のインデックスから検索して、3のある最初のインデックスを返す。\n",
    "\n",
    "if 4 in r:\n",
    "    print(\"あります。\") #if文を使った方法\n",
    "\n",
    "if 5 in r:\n",
    "    print(\"あります。\") #if文を使った方法。５はないので出力されない。\n",
    "    \n",
    "#ソート(並べ替え)\n",
    "r.sort() #昇順で並べ替え\n",
    "print(r)\n",
    "\n",
    "r.sort(reverse = True) #降順で並べ替え\n",
    "print(r)\n",
    "\n",
    "r.reverse() #降順で並べ替え\n",
    "print(r)\n",
    "\n",
    "#スプリット\n",
    "s = \"My name is Yu\"\n",
    "to_split = s.split(' ') #半角スペースで区切ってリストに入れる。\n",
    "print(to_split)\n",
    "\n",
    "x = ' '.join(to_split) #文字列のメソッドを使って半角スペースで区切って結合\n",
    "print(x)"
   ]
  },
  {
   "cell_type": "markdown",
   "metadata": {
    "colab_type": "text",
    "id": "cqvCoJPVBjAr"
   },
   "source": [
    "### -listのコピー\n",
    "listを単純に代入すると値渡しでなく参照渡しになるので、代入した後のlistをいじると元のlistも変わってしまう。バグの原因になりやすいので注意が必要。"
   ]
  },
  {
   "cell_type": "code",
   "execution_count": null,
   "metadata": {
    "colab": {},
    "colab_type": "code",
    "id": "jP93ZinkBjAr",
    "outputId": "a7b85bc6-98f1-4b50-be58-bd3bf685c287"
   },
   "outputs": [
    {
     "name": "stdout",
     "output_type": "stream",
     "text": [
      "4439438408\n",
      "4439438408\n",
      "j = [100, 2, 3, 4, 5]\n",
      "i = [100, 2, 3, 4, 5]\n"
     ]
    }
   ],
   "source": [
    "j = [1,2,3,4,5]\n",
    "i = j\n",
    "print(id(j))\n",
    "print(id(i))\n",
    "i[0] = 100\n",
    "print('j =', j )\n",
    "print('i =', i )"
   ]
  },
  {
   "cell_type": "markdown",
   "metadata": {
    "colab_type": "text",
    "id": "4hkcw0dhBjAv"
   },
   "source": [
    "なのでメソッドの.copyを使って代入する。"
   ]
  },
  {
   "cell_type": "code",
   "execution_count": null,
   "metadata": {
    "colab": {},
    "colab_type": "code",
    "id": "72-NI0zTBjAw",
    "outputId": "18da7114-0150-4582-ad36-28a5e493d110"
   },
   "outputs": [
    {
     "name": "stdout",
     "output_type": "stream",
     "text": [
      "4626568840\n",
      "4622819080\n",
      "j = [1, 2, 3, 4, 5]\n",
      "i = [100, 2, 3, 4, 5]\n"
     ]
    }
   ],
   "source": [
    "j = [1,2,3,4,5]\n",
    "i = j.copy()\n",
    "# 実はi = j[:]でも同様のことができるが、他の人が読む時見落としがちなので.copyの方を推奨。\n",
    "print(id(j))\n",
    "print(id(i))\n",
    "i[0] = 100\n",
    "print('j =', j )\n",
    "print('i =', i )"
   ]
  },
  {
   "cell_type": "markdown",
   "metadata": {
    "colab_type": "text",
    "id": "CbNT1xuXBjAy"
   },
   "source": [
    "### -使い所(タクシーの乗り降りを例に)"
   ]
  },
  {
   "cell_type": "code",
   "execution_count": 24,
   "metadata": {
    "colab": {},
    "colab_type": "code",
    "id": "d2i-glW1BjAz"
   },
   "outputs": [
    {
     "name": "stdout",
     "output_type": "stream",
     "text": [
      "True\n",
      "True\n",
      "True\n",
      "True\n",
      "False\n",
      "True\n"
     ]
    }
   ],
   "source": [
    "#タクシーにおける人の乗り降りを表現できるlistを作る。\n",
    "seat = []\n",
    "min = 0\n",
    "max = 3\n",
    "\n",
    "print(min <= len(seat) <= max) #中は条件式。seatの長さがmin以上max以下\n",
    "\n",
    "seat.append('p') #seatにpを追加。乗客が一人のる。\n",
    "print(min <= len(seat) <= max) \n",
    "\n",
    "seat.append('p')\n",
    "print(min <= len(seat) <= max) \n",
    "\n",
    "seat.append('p')\n",
    "print(min <= len(seat) <= max )\n",
    "\n",
    "seat.append('p')\n",
    "print(min <= len(seat) <= max )\n",
    "\n",
    "seat.pop(0) #seatからpを削除。乗客が一人降りる。\n",
    "print(min <= len(seat) <= max ) "
   ]
  },
  {
   "cell_type": "markdown",
   "metadata": {
    "colab_type": "text",
    "id": "P7Mgaz1-BjA3"
   },
   "source": [
    "# **tuple型の操作**\n",
    "listと似た型にtupleがある。listよりも編集機能が少なく、主に読み込み型として使われる。  \n",
    ",がつくだけでtupple型になるのでバグに注意。"
   ]
  },
  {
   "cell_type": "code",
   "execution_count": 10,
   "metadata": {
    "colab": {},
    "colab_type": "code",
    "id": "54WUxkHuBjA4",
    "outputId": "258062a9-26a5-4191-87ce-908916d6bb7b"
   },
   "outputs": [
    {
     "name": "stdout",
     "output_type": "stream",
     "text": [
      "<class 'tuple'> <class 'tuple'>\n",
      "インデックスやスライス\n",
      "1\n",
      "5\n",
      "(1, 2, 3, 4, 5)\n",
      "<class 'tuple'>\n",
      "ネスト n[0][1] = 2 n[1][1] = b\n"
     ]
    }
   ],
   "source": [
    "#tupleの定義。,カンマで区切る。それだけでも大丈夫だが形式的に()パレンティスで囲う。\n",
    "t = (1,2,3,4,5) \n",
    "\n",
    "#カンマがついた段階でtupleとして扱われる。\n",
    "T = 1, \n",
    "print(type(t), type(T))\n",
    "\n",
    "#インデックスやスライスはlistと同様に使える。\n",
    "print('インデックスやスライス',t[0], t[-1], t[:], sep = '\\n')\n",
    "\n",
    "#listのネストはtupleでもできる。\n",
    "n = ([1,2,3], ['a', 'b', 'c'])\n",
    "print(type(n))\n",
    "print('ネスト', 'n[0][1] =', n[0][1], 'n[1][1] =', n[1][1])\n",
    "\n",
    "#ただし新しい値の代入はできない（重要）t[0] = 100とかはダメ。\n",
    "#tupleのメソッドは.indexと.countのみ。"
   ]
  },
  {
   "cell_type": "code",
   "execution_count": 7,
   "metadata": {},
   "outputs": [
    {
     "name": "stdout",
     "output_type": "stream",
     "text": [
      "c =  ('A', 'B')\n",
      "a =  A\n",
      "b =  B\n",
      "min =  0\n",
      "max =  1\n",
      "a =  B\n",
      "b =  A\n"
     ]
    }
   ],
   "source": [
    "#タプルのアンパッキング\n",
    "#タプルを分割して代入できる。\n",
    "c = ('A', 'B')\n",
    "print('c = ', c)\n",
    "a, b = c\n",
    "print('a = ', a)\n",
    "print('b = ', b)\n",
    "\n",
    "#タプルはパレンティス()を必ずしも必要としないので、以下のような変数宣言が可能。\n",
    "min, max = 0, 1\n",
    "print('min = ', min)\n",
    "print('max = ', max)\n",
    "\n",
    "#変数の値を入れ替えるのにも便利。\n",
    "a, b = b, a\n",
    "print('a = ', a)\n",
    "print('b = ', b)"
   ]
  },
  {
   "cell_type": "markdown",
   "metadata": {},
   "source": [
    "# **辞書型**"
   ]
  },
  {
   "cell_type": "code",
   "execution_count": 22,
   "metadata": {},
   "outputs": [
    {
     "name": "stdout",
     "output_type": "stream",
     "text": [
      "{'x': 10, 'y': 20}\n",
      "{'x': 10, 'y': 20}\n",
      "{'x': 10, 'y': 20}\n",
      "10\n",
      "20\n"
     ]
    }
   ],
   "source": [
    "#３つの等価な宣言\n",
    "d_1 = {'x':10, 'y':20} #カーリブラケットで囲う。\n",
    "d_2 = dict(x=10, y=20) \n",
    "d_3 = dict([('x', 10), ('y', 20)])\n",
    "print(d_1, d_2, d_3, sep = '\\n')\n",
    "print(d_1['x'])\n",
    "print(d_1['y'])"
   ]
  },
  {
   "cell_type": "code",
   "execution_count": 23,
   "metadata": {},
   "outputs": [
    {
     "name": "stdout",
     "output_type": "stream",
     "text": [
      "<class 'dict'>\n",
      "{}\n",
      "{'max': 1, 'min': 0}\n"
     ]
    }
   ],
   "source": [
    "#代入\n",
    "d = {}\n",
    "print(type(d), d, sep = '\\n')\n",
    "d['max'] = 1\n",
    "d['min'] = 0\n",
    "print(d)"
   ]
  },
  {
   "cell_type": "markdown",
   "metadata": {},
   "source": [
    "### -辞書型のメソッド"
   ]
  },
  {
   "cell_type": "markdown",
   "metadata": {},
   "source": [
    "**抽出**"
   ]
  },
  {
   "cell_type": "code",
   "execution_count": 24,
   "metadata": {},
   "outputs": [
    {
     "name": "stdout",
     "output_type": "stream",
     "text": [
      "hoge =  ['x', 'y', 100, 1000]\n"
     ]
    }
   ],
   "source": [
    "#.keys()と.values()での抽出\n",
    "d=dict(x=100,y=1000)\n",
    "hoge = []\n",
    "hoge += d.keys() #.keys()でkeyだけ抽出（リスト型）\n",
    "hoge += d.values() #.value()でvalueだけ抽出（リスト型）\n",
    "print(\"hoge = \", hoge)"
   ]
  },
  {
   "cell_type": "markdown",
   "metadata": {},
   "source": [
    "**更新・追加**"
   ]
  },
  {
   "cell_type": "code",
   "execution_count": 50,
   "metadata": {},
   "outputs": [
    {
     "name": "stdout",
     "output_type": "stream",
     "text": [
      "{'x': 1, 'y': 1000, 'j': 10000}\n",
      "{'x': 1, 'y': 1000, 'j': 10000, 'z': 10}\n"
     ]
    }
   ],
   "source": [
    "# .update(hoge)で辞書の上書き(更新)\n",
    "d=dict(x=100,y=1000)\n",
    "d2=dict(x=1,j=10000)\n",
    "\n",
    "# dをd2で上書き(被ってるkeyは上書き、無いのは更新)\n",
    "d.update(d2)\n",
    "print(d)\n",
    "\n",
    "# dに一つ追加\n",
    "d.setdefault('z',10)\n",
    "print(d)"
   ]
  },
  {
   "cell_type": "code",
   "execution_count": 33,
   "metadata": {},
   "outputs": [
    {
     "name": "stdout",
     "output_type": "stream",
     "text": [
      "100\n",
      "100\n",
      "None\n"
     ]
    }
   ],
   "source": [
    "# .get('hoge')の使い所 d['hoge']と同じだが無い値を参照してもエラーでなくNoneが帰る。\n",
    "d=dict(x=100,y=1000)\n",
    "print(d['x'])\n",
    "print(d.get('x'))\n",
    "print(d.get('z'))"
   ]
  },
  {
   "cell_type": "code",
   "execution_count": 36,
   "metadata": {},
   "outputs": [
    {
     "name": "stdout",
     "output_type": "stream",
     "text": [
      "{'y': 1000}\n",
      "{}\n"
     ]
    }
   ],
   "source": [
    "# .pop('hoge'), del d['hoge'] での値削除\n",
    "d=dict(x=100,y=1000)\n",
    "\n",
    "d.pop('x')\n",
    "print(d)\n",
    "\n",
    "del d['y']\n",
    "print(d)"
   ]
  },
  {
   "cell_type": "code",
   "execution_count": 37,
   "metadata": {},
   "outputs": [
    {
     "data": {
      "text/plain": [
       "True"
      ]
     },
     "execution_count": 37,
     "metadata": {},
     "output_type": "execute_result"
    }
   ],
   "source": [
    "# 条件式 'hoge' in hogehoge\n",
    "d=dict(x=100,y=1000)\n",
    "\n",
    "'x' in d"
   ]
  },
  {
   "cell_type": "code",
   "execution_count": 38,
   "metadata": {},
   "outputs": [
    {
     "name": "stdout",
     "output_type": "stream",
     "text": [
      "d2 = {'x': 0, 'y': 1000}\n",
      "d3 = {'x': 100, 'y': 1000}\n"
     ]
    }
   ],
   "source": [
    "#list型の時と同じくそのまま代入すると参照渡しになるので、値渡しにするには.copy()を使う。\n",
    "d=dict(x=100,y=1000)\n",
    "d2=d\n",
    "d3=d.copy()\n",
    "\n",
    "d['x'] = 0\n",
    "print(\"d2 =\",d2)\n",
    "print(\"d3 =\",d3)"
   ]
  },
  {
   "cell_type": "markdown",
   "metadata": {},
   "source": [
    "### **-辞書型の使い所**"
   ]
  },
  {
   "cell_type": "code",
   "execution_count": 44,
   "metadata": {},
   "outputs": [
    {
     "data": {
      "text/plain": [
       "45"
      ]
     },
     "execution_count": 44,
     "metadata": {},
     "output_type": "execute_result"
    }
   ],
   "source": [
    "l = [[\"Herb\",45],[\"Tree\",80]] #list型でもそれっぽいのは作れるがHerbにアクセスするのは難しい。\n",
    "d = {'Herb':45, 'Tree':80}\n",
    "d['Herb'] #簡単"
   ]
  },
  {
   "cell_type": "markdown",
   "metadata": {},
   "source": [
    "# **集合型**"
   ]
  },
  {
   "cell_type": "code",
   "execution_count": 47,
   "metadata": {},
   "outputs": [
    {
     "name": "stdout",
     "output_type": "stream",
     "text": [
      "a - b = {1, 2, 3}\n",
      "b - a = {8, 9, 7}\n",
      "a & b = {4, 5, 6}\n",
      "a | b = {1, 2, 3, 4, 5, 6, 7, 8, 9}\n",
      "a ^ b = {1, 2, 3, 7, 8, 9}\n"
     ]
    }
   ],
   "source": [
    "#宣言は{}でかこう。\n",
    "a = {1,2,3,4,5,6}\n",
    "b = {4,5,6,7,8,9}\n",
    "\n",
    "print(\"a - b =\",a - b)\n",
    "print(\"b - a =\",b - a)\n",
    "print(\"a & b =\",a & b) #かつ\n",
    "print(\"a | b =\",a | b) #または\n",
    "print(\"a ^ b =\",a ^ b) #排他"
   ]
  },
  {
   "cell_type": "code",
   "execution_count": 52,
   "metadata": {},
   "outputs": [
    {
     "name": "stdout",
     "output_type": "stream",
     "text": [
      "{'b', 'a'}\n"
     ]
    }
   ],
   "source": [
    "#　使い所 リストの中のユニークなものだけとってくる。\n",
    "l = [\"a\", \"a\", \"b\", \"a\"]\n",
    "s = set(l)\n",
    "\n",
    "print(s)"
   ]
  },
  {
   "cell_type": "markdown",
   "metadata": {
    "colab_type": "text",
    "id": "vdS2qcviBjA1"
   },
   "source": [
    "### -おまけ(pandasを使ったデータフレーム作成例)"
   ]
  },
  {
   "cell_type": "code",
   "execution_count": 64,
   "metadata": {
    "colab": {
     "base_uri": "https://localhost:8080/",
     "height": 204
    },
    "colab_type": "code",
    "executionInfo": {
     "elapsed": 910,
     "status": "ok",
     "timestamp": 1573183357957,
     "user": {
      "displayName": "南木悠",
      "photoUrl": "",
      "userId": "16082735348902225582"
     },
     "user_tz": -540
    },
    "id": "1pzNuBQjBjA1",
    "outputId": "30c4de5d-609b-454c-dcf0-535551f1781c"
   },
   "outputs": [
    {
     "name": "stdout",
     "output_type": "stream",
     "text": [
      "   A   B      C\n",
      "0  0   0  False\n",
      "1  1   3  False\n",
      "2  2   6  False\n",
      "3  3   9  False\n",
      "4  4  12  False\n",
      "5  5  15  False\n",
      "6  6  18   True\n",
      "7  7  21   True\n",
      "8  8  24   True\n",
      "9  9  27   True\n"
     ]
    }
   ],
   "source": [
    "import pandas as pd\n",
    "\n",
    "a = []\n",
    "b = []\n",
    "c = []\n",
    "\n",
    "for i in range(10):\n",
    "    a += [i]\n",
    "    b += [3*i]\n",
    "    c += [i>5]\n",
    "\n",
    "test = pd.DataFrame({\n",
    "    \"A\": a,\n",
    "    \"B\": b,\n",
    "    \"C\": c\n",
    "})\n",
    "\n",
    "print(test[test.A >= 0])"
   ]
  }
 ],
 "metadata": {
  "colab": {
   "name": "python_practice.ipynb",
   "provenance": []
  },
  "kernelspec": {
   "display_name": "Python 3",
   "language": "python",
   "name": "python3"
  },
  "language_info": {
   "codemirror_mode": {
    "name": "ipython",
    "version": 3
   },
   "file_extension": ".py",
   "mimetype": "text/x-python",
   "name": "python",
   "nbconvert_exporter": "python",
   "pygments_lexer": "ipython3",
   "version": "3.7.2"
  }
 },
 "nbformat": 4,
 "nbformat_minor": 4
}
